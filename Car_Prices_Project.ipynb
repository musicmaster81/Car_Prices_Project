{
 "cells": [
  {
   "cell_type": "markdown",
   "metadata": {
    "collapsed": true
   },
   "source": [
    "# Car Price Prediction Project"
   ]
  },
  {
   "cell_type": "markdown",
   "metadata": {},
   "source": [
    "### Introduction"
   ]
  },
  {
   "cell_type": "markdown",
   "metadata": {},
   "source": [
    "Perhaps the second most desirable item to possess here in America behind houses has to be an automobile. In fact, one could argue that it's even more desirable than a home. After all, the majorityof Americans own more than 1 automobile, but rarely own more than 1 home. \n",
    "\n",
    "Similar to my House Prices prediction project, this project will be dedicated to predicting car prices based upon the set of given features of our dataset. The dataset that we will be working with can be found in this project's repository on my GitHub. Whereas in the House Prices project we utilized Linear Regression, we will be appling the K-nearest neighbors algorithm."
   ]
  },
  {
   "cell_type": "markdown",
   "metadata": {},
   "source": [
    "### Preprocessing"
   ]
  },
  {
   "cell_type": "code",
   "execution_count": 1,
   "metadata": {
    "collapsed": false
   },
   "outputs": [],
   "source": [
    "# We first import our necessary packages\n",
    "import pandas as pd\n",
    "import numpy as np\n",
    "from sklearn.neighbors import KNeighborsRegressor\n",
    "from sklearn.model_selection import cross_val_score, KFold\n",
    "from sklearn.metrics import mean_squared_error\n",
    "import matplotlib.pyplot as plt\n",
    "import matplotlib.style as style"
   ]
  },
  {
   "cell_type": "code",
   "execution_count": 2,
   "metadata": {
    "collapsed": false
   },
   "outputs": [
    {
     "data": {
      "text/html": [
       "<div>\n",
       "<style scoped>\n",
       "    .dataframe tbody tr th:only-of-type {\n",
       "        vertical-align: middle;\n",
       "    }\n",
       "\n",
       "    .dataframe tbody tr th {\n",
       "        vertical-align: top;\n",
       "    }\n",
       "\n",
       "    .dataframe thead th {\n",
       "        text-align: right;\n",
       "    }\n",
       "</style>\n",
       "<table border=\"1\" class=\"dataframe\">\n",
       "  <thead>\n",
       "    <tr style=\"text-align: right;\">\n",
       "      <th></th>\n",
       "      <th>symboling</th>\n",
       "      <th>normalized-losses</th>\n",
       "      <th>make</th>\n",
       "      <th>fuel-type</th>\n",
       "      <th>aspiration</th>\n",
       "      <th>num-of-doors</th>\n",
       "      <th>body-style</th>\n",
       "      <th>drive-wheels</th>\n",
       "      <th>engine-location</th>\n",
       "      <th>wheel-base</th>\n",
       "      <th>...</th>\n",
       "      <th>engine-size</th>\n",
       "      <th>fuel-system</th>\n",
       "      <th>bore</th>\n",
       "      <th>stroke</th>\n",
       "      <th>compression-rate</th>\n",
       "      <th>horsepower</th>\n",
       "      <th>peak-rpm</th>\n",
       "      <th>city-mpg</th>\n",
       "      <th>highway-mpg</th>\n",
       "      <th>price</th>\n",
       "    </tr>\n",
       "  </thead>\n",
       "  <tbody>\n",
       "    <tr>\n",
       "      <th>0</th>\n",
       "      <td>3</td>\n",
       "      <td>?</td>\n",
       "      <td>alfa-romero</td>\n",
       "      <td>gas</td>\n",
       "      <td>std</td>\n",
       "      <td>two</td>\n",
       "      <td>convertible</td>\n",
       "      <td>rwd</td>\n",
       "      <td>front</td>\n",
       "      <td>88.6</td>\n",
       "      <td>...</td>\n",
       "      <td>130</td>\n",
       "      <td>mpfi</td>\n",
       "      <td>3.47</td>\n",
       "      <td>2.68</td>\n",
       "      <td>9.0</td>\n",
       "      <td>111</td>\n",
       "      <td>5000</td>\n",
       "      <td>21</td>\n",
       "      <td>27</td>\n",
       "      <td>13495</td>\n",
       "    </tr>\n",
       "    <tr>\n",
       "      <th>1</th>\n",
       "      <td>3</td>\n",
       "      <td>?</td>\n",
       "      <td>alfa-romero</td>\n",
       "      <td>gas</td>\n",
       "      <td>std</td>\n",
       "      <td>two</td>\n",
       "      <td>convertible</td>\n",
       "      <td>rwd</td>\n",
       "      <td>front</td>\n",
       "      <td>88.6</td>\n",
       "      <td>...</td>\n",
       "      <td>130</td>\n",
       "      <td>mpfi</td>\n",
       "      <td>3.47</td>\n",
       "      <td>2.68</td>\n",
       "      <td>9.0</td>\n",
       "      <td>111</td>\n",
       "      <td>5000</td>\n",
       "      <td>21</td>\n",
       "      <td>27</td>\n",
       "      <td>16500</td>\n",
       "    </tr>\n",
       "    <tr>\n",
       "      <th>2</th>\n",
       "      <td>1</td>\n",
       "      <td>?</td>\n",
       "      <td>alfa-romero</td>\n",
       "      <td>gas</td>\n",
       "      <td>std</td>\n",
       "      <td>two</td>\n",
       "      <td>hatchback</td>\n",
       "      <td>rwd</td>\n",
       "      <td>front</td>\n",
       "      <td>94.5</td>\n",
       "      <td>...</td>\n",
       "      <td>152</td>\n",
       "      <td>mpfi</td>\n",
       "      <td>2.68</td>\n",
       "      <td>3.47</td>\n",
       "      <td>9.0</td>\n",
       "      <td>154</td>\n",
       "      <td>5000</td>\n",
       "      <td>19</td>\n",
       "      <td>26</td>\n",
       "      <td>16500</td>\n",
       "    </tr>\n",
       "    <tr>\n",
       "      <th>3</th>\n",
       "      <td>2</td>\n",
       "      <td>164</td>\n",
       "      <td>audi</td>\n",
       "      <td>gas</td>\n",
       "      <td>std</td>\n",
       "      <td>four</td>\n",
       "      <td>sedan</td>\n",
       "      <td>fwd</td>\n",
       "      <td>front</td>\n",
       "      <td>99.8</td>\n",
       "      <td>...</td>\n",
       "      <td>109</td>\n",
       "      <td>mpfi</td>\n",
       "      <td>3.19</td>\n",
       "      <td>3.40</td>\n",
       "      <td>10.0</td>\n",
       "      <td>102</td>\n",
       "      <td>5500</td>\n",
       "      <td>24</td>\n",
       "      <td>30</td>\n",
       "      <td>13950</td>\n",
       "    </tr>\n",
       "    <tr>\n",
       "      <th>4</th>\n",
       "      <td>2</td>\n",
       "      <td>164</td>\n",
       "      <td>audi</td>\n",
       "      <td>gas</td>\n",
       "      <td>std</td>\n",
       "      <td>four</td>\n",
       "      <td>sedan</td>\n",
       "      <td>4wd</td>\n",
       "      <td>front</td>\n",
       "      <td>99.4</td>\n",
       "      <td>...</td>\n",
       "      <td>136</td>\n",
       "      <td>mpfi</td>\n",
       "      <td>3.19</td>\n",
       "      <td>3.40</td>\n",
       "      <td>8.0</td>\n",
       "      <td>115</td>\n",
       "      <td>5500</td>\n",
       "      <td>18</td>\n",
       "      <td>22</td>\n",
       "      <td>17450</td>\n",
       "    </tr>\n",
       "  </tbody>\n",
       "</table>\n",
       "<p>5 rows × 26 columns</p>\n",
       "</div>"
      ],
      "text/plain": [
       "   symboling normalized-losses         make fuel-type aspiration num-of-doors  \\\n",
       "0          3                 ?  alfa-romero       gas        std          two   \n",
       "1          3                 ?  alfa-romero       gas        std          two   \n",
       "2          1                 ?  alfa-romero       gas        std          two   \n",
       "3          2               164         audi       gas        std         four   \n",
       "4          2               164         audi       gas        std         four   \n",
       "\n",
       "    body-style drive-wheels engine-location  wheel-base  ...    engine-size  \\\n",
       "0  convertible          rwd           front        88.6  ...            130   \n",
       "1  convertible          rwd           front        88.6  ...            130   \n",
       "2    hatchback          rwd           front        94.5  ...            152   \n",
       "3        sedan          fwd           front        99.8  ...            109   \n",
       "4        sedan          4wd           front        99.4  ...            136   \n",
       "\n",
       "   fuel-system  bore  stroke compression-rate horsepower  peak-rpm city-mpg  \\\n",
       "0         mpfi  3.47    2.68              9.0        111      5000       21   \n",
       "1         mpfi  3.47    2.68              9.0        111      5000       21   \n",
       "2         mpfi  2.68    3.47              9.0        154      5000       19   \n",
       "3         mpfi  3.19    3.40             10.0        102      5500       24   \n",
       "4         mpfi  3.19    3.40              8.0        115      5500       18   \n",
       "\n",
       "  highway-mpg  price  \n",
       "0          27  13495  \n",
       "1          27  16500  \n",
       "2          26  16500  \n",
       "3          30  13950  \n",
       "4          22  17450  \n",
       "\n",
       "[5 rows x 26 columns]"
      ]
     },
     "execution_count": 2,
     "metadata": {},
     "output_type": "execute_result"
    }
   ],
   "source": [
    "# Next we read in our dataset and make any adjustments to the columns\n",
    "columns = ['symboling', 'normalized-losses', 'make', 'fuel-type', 'aspiration', 'num-of-doors', 'body-style', \n",
    "        'drive-wheels', 'engine-location', 'wheel-base', 'length', 'width', 'height', 'curb-weight', 'engine-type', \n",
    "        'num-of-cylinders', 'engine-size', 'fuel-system', 'bore', 'stroke', 'compression-rate', 'horsepower', 'peak-rpm', 'city-mpg', 'highway-mpg', 'price']\n",
    "cars = pd.read_csv('imports-85.data', names=columns)\n",
    "\n",
    "cars.head()"
   ]
  },
  {
   "cell_type": "code",
   "execution_count": 3,
   "metadata": {
    "collapsed": false
   },
   "outputs": [
    {
     "data": {
      "text/html": [
       "<div>\n",
       "<style scoped>\n",
       "    .dataframe tbody tr th:only-of-type {\n",
       "        vertical-align: middle;\n",
       "    }\n",
       "\n",
       "    .dataframe tbody tr th {\n",
       "        vertical-align: top;\n",
       "    }\n",
       "\n",
       "    .dataframe thead th {\n",
       "        text-align: right;\n",
       "    }\n",
       "</style>\n",
       "<table border=\"1\" class=\"dataframe\">\n",
       "  <thead>\n",
       "    <tr style=\"text-align: right;\">\n",
       "      <th></th>\n",
       "      <th>normalized-losses</th>\n",
       "      <th>wheel-base</th>\n",
       "      <th>length</th>\n",
       "      <th>width</th>\n",
       "      <th>height</th>\n",
       "      <th>curb-weight</th>\n",
       "      <th>engine-size</th>\n",
       "      <th>bore</th>\n",
       "      <th>stroke</th>\n",
       "      <th>compression-rate</th>\n",
       "      <th>horsepower</th>\n",
       "      <th>peak-rpm</th>\n",
       "      <th>city-mpg</th>\n",
       "      <th>highway-mpg</th>\n",
       "    </tr>\n",
       "  </thead>\n",
       "  <tbody>\n",
       "    <tr>\n",
       "      <th>0</th>\n",
       "      <td>?</td>\n",
       "      <td>88.6</td>\n",
       "      <td>168.8</td>\n",
       "      <td>64.1</td>\n",
       "      <td>48.8</td>\n",
       "      <td>2548</td>\n",
       "      <td>130</td>\n",
       "      <td>3.47</td>\n",
       "      <td>2.68</td>\n",
       "      <td>9.0</td>\n",
       "      <td>111</td>\n",
       "      <td>5000</td>\n",
       "      <td>21</td>\n",
       "      <td>27</td>\n",
       "    </tr>\n",
       "    <tr>\n",
       "      <th>1</th>\n",
       "      <td>?</td>\n",
       "      <td>88.6</td>\n",
       "      <td>168.8</td>\n",
       "      <td>64.1</td>\n",
       "      <td>48.8</td>\n",
       "      <td>2548</td>\n",
       "      <td>130</td>\n",
       "      <td>3.47</td>\n",
       "      <td>2.68</td>\n",
       "      <td>9.0</td>\n",
       "      <td>111</td>\n",
       "      <td>5000</td>\n",
       "      <td>21</td>\n",
       "      <td>27</td>\n",
       "    </tr>\n",
       "    <tr>\n",
       "      <th>2</th>\n",
       "      <td>?</td>\n",
       "      <td>94.5</td>\n",
       "      <td>171.2</td>\n",
       "      <td>65.5</td>\n",
       "      <td>52.4</td>\n",
       "      <td>2823</td>\n",
       "      <td>152</td>\n",
       "      <td>2.68</td>\n",
       "      <td>3.47</td>\n",
       "      <td>9.0</td>\n",
       "      <td>154</td>\n",
       "      <td>5000</td>\n",
       "      <td>19</td>\n",
       "      <td>26</td>\n",
       "    </tr>\n",
       "    <tr>\n",
       "      <th>3</th>\n",
       "      <td>164</td>\n",
       "      <td>99.8</td>\n",
       "      <td>176.6</td>\n",
       "      <td>66.2</td>\n",
       "      <td>54.3</td>\n",
       "      <td>2337</td>\n",
       "      <td>109</td>\n",
       "      <td>3.19</td>\n",
       "      <td>3.40</td>\n",
       "      <td>10.0</td>\n",
       "      <td>102</td>\n",
       "      <td>5500</td>\n",
       "      <td>24</td>\n",
       "      <td>30</td>\n",
       "    </tr>\n",
       "    <tr>\n",
       "      <th>4</th>\n",
       "      <td>164</td>\n",
       "      <td>99.4</td>\n",
       "      <td>176.6</td>\n",
       "      <td>66.4</td>\n",
       "      <td>54.3</td>\n",
       "      <td>2824</td>\n",
       "      <td>136</td>\n",
       "      <td>3.19</td>\n",
       "      <td>3.40</td>\n",
       "      <td>8.0</td>\n",
       "      <td>115</td>\n",
       "      <td>5500</td>\n",
       "      <td>18</td>\n",
       "      <td>22</td>\n",
       "    </tr>\n",
       "  </tbody>\n",
       "</table>\n",
       "</div>"
      ],
      "text/plain": [
       "  normalized-losses  wheel-base  length  width  height  curb-weight  \\\n",
       "0                 ?        88.6   168.8   64.1    48.8         2548   \n",
       "1                 ?        88.6   168.8   64.1    48.8         2548   \n",
       "2                 ?        94.5   171.2   65.5    52.4         2823   \n",
       "3               164        99.8   176.6   66.2    54.3         2337   \n",
       "4               164        99.4   176.6   66.4    54.3         2824   \n",
       "\n",
       "   engine-size  bore stroke  compression-rate horsepower peak-rpm  city-mpg  \\\n",
       "0          130  3.47   2.68               9.0        111     5000        21   \n",
       "1          130  3.47   2.68               9.0        111     5000        21   \n",
       "2          152  2.68   3.47               9.0        154     5000        19   \n",
       "3          109  3.19   3.40              10.0        102     5500        24   \n",
       "4          136  3.19   3.40               8.0        115     5500        18   \n",
       "\n",
       "   highway-mpg  \n",
       "0           27  \n",
       "1           27  \n",
       "2           26  \n",
       "3           30  \n",
       "4           22  "
      ]
     },
     "execution_count": 3,
     "metadata": {},
     "output_type": "execute_result"
    }
   ],
   "source": [
    "# Notice that we have categorical as well as numeric continuous variables.\n",
    "# We should isolate the numeric variables\n",
    "numerical_variables = ['normalized-losses', 'wheel-base', 'length', 'width', 'height', 'curb-weight', 'engine-size', 'bore', 'stroke', 'compression-rate', 'horsepower', 'peak-rpm', 'city-mpg', 'highway-mpg']\n",
    "numeric_cars = cars[numerical_variables]  # We create a new feature matrix \n",
    "numeric_cars.head()"
   ]
  },
  {
   "cell_type": "markdown",
   "metadata": {},
   "source": [
    "### Data Cleaning"
   ]
  },
  {
   "cell_type": "markdown",
   "metadata": {},
   "source": [
    "For our model to run correctly, we have to make sure any NaN values are dealt with. Let's take a look at which variables are continuous or discrete. If they are discrete, we will replace the NaN values with the median. If they are continuous, we will replace the NaN values with the mean. "
   ]
  },
  {
   "cell_type": "code",
   "execution_count": 4,
   "metadata": {
    "collapsed": false
   },
   "outputs": [
    {
     "data": {
      "text/plain": [
       "normalized-losses    0\n",
       "wheel-base           0\n",
       "length               0\n",
       "width                0\n",
       "height               0\n",
       "curb-weight          0\n",
       "engine-size          0\n",
       "bore                 0\n",
       "stroke               0\n",
       "compression-rate     0\n",
       "horsepower           0\n",
       "peak-rpm             0\n",
       "city-mpg             0\n",
       "highway-mpg          0\n",
       "dtype: int64"
      ]
     },
     "execution_count": 4,
     "metadata": {},
     "output_type": "execute_result"
    }
   ],
   "source": [
    "# First let's take a look at which columns have the most null values\n",
    "numeric_cars.isnull().sum()"
   ]
  },
  {
   "cell_type": "code",
   "execution_count": 5,
   "metadata": {
    "collapsed": false
   },
   "outputs": [
    {
     "name": "stderr",
     "output_type": "stream",
     "text": [
      "/dataquest/system/env/python3/lib/python3.4/site-packages/ipykernel/__main__.py:2: SettingWithCopyWarning:\n",
      "\n",
      "\n",
      "A value is trying to be set on a copy of a slice from a DataFrame\n",
      "\n",
      "See the caveats in the documentation: http://pandas.pydata.org/pandas-docs/stable/indexing.html#indexing-view-versus-copy\n",
      "\n"
     ]
    }
   ],
   "source": [
    "# It looks as though our dataframe replaces NaN with ?. We'll need to change that\n",
    "numeric_cars.replace('?', np.nan, inplace=True)"
   ]
  },
  {
   "cell_type": "code",
   "execution_count": 6,
   "metadata": {
    "collapsed": false
   },
   "outputs": [
    {
     "data": {
      "text/plain": [
       "normalized-losses    41\n",
       "wheel-base            0\n",
       "length                0\n",
       "width                 0\n",
       "height                0\n",
       "curb-weight           0\n",
       "engine-size           0\n",
       "bore                  4\n",
       "stroke                4\n",
       "compression-rate      0\n",
       "horsepower            2\n",
       "peak-rpm              2\n",
       "city-mpg              0\n",
       "highway-mpg           0\n",
       "dtype: int64"
      ]
     },
     "execution_count": 6,
     "metadata": {},
     "output_type": "execute_result"
    }
   ],
   "source": [
    "# Let's try again\n",
    "numeric_cars.isnull().sum()"
   ]
  },
  {
   "cell_type": "code",
   "execution_count": 7,
   "metadata": {
    "collapsed": false
   },
   "outputs": [],
   "source": [
    "# That's better. First, let's convert the columns containing a ? to numeric types\n",
    "numeric_cars = numeric_cars.astype('float')"
   ]
  },
  {
   "cell_type": "code",
   "execution_count": 8,
   "metadata": {
    "collapsed": false
   },
   "outputs": [
    {
     "name": "stdout",
     "output_type": "stream",
     "text": [
      "The normalized-losses is continuous\n",
      "The wheel-base is continuous\n",
      "The length is continuous\n",
      "The width is continuous\n",
      "The height is continuous\n",
      "The curb-weight is continuous\n",
      "The engine-size is continuous\n",
      "The bore is continuous\n",
      "The stroke is continuous\n",
      "The compression-rate is continuous\n",
      "The horsepower is continuous\n",
      "The peak-rpm is continuous\n",
      "The city-mpg is continuous\n",
      "The highway-mpg is continuous\n"
     ]
    }
   ],
   "source": [
    "# Now we wish to differentiate between continuous and discrete values\n",
    "for column in numeric_cars.columns:\n",
    "    if len(numeric_cars[column].unique()) > 10:\n",
    "        print('The', column, 'is continuous')\n",
    "    else:\n",
    "        print(\"The\", column, \"is discrete\")"
   ]
  },
  {
   "cell_type": "code",
   "execution_count": 9,
   "metadata": {
    "collapsed": true
   },
   "outputs": [],
   "source": [
    "# We now place our price column back our new dataframe\n",
    "cars['price'].replace('?', np.nan, inplace=True)\n",
    "cars['price'] = cars['price'].astype('float')"
   ]
  },
  {
   "cell_type": "code",
   "execution_count": 10,
   "metadata": {
    "collapsed": true
   },
   "outputs": [],
   "source": [
    "numeric_cars['price'] = cars['price']"
   ]
  },
  {
   "cell_type": "code",
   "execution_count": 11,
   "metadata": {
    "collapsed": true
   },
   "outputs": [],
   "source": [
    "# All of our variables are continuous. We will replace the NaN with the mean\n",
    "for column in numeric_cars.columns:\n",
    "    numeric_cars[column].replace(np.nan, numeric_cars[column].mean(), inplace=True)"
   ]
  },
  {
   "cell_type": "code",
   "execution_count": 12,
   "metadata": {
    "collapsed": false
   },
   "outputs": [
    {
     "data": {
      "text/plain": [
       "normalized-losses    0\n",
       "wheel-base           0\n",
       "length               0\n",
       "width                0\n",
       "height               0\n",
       "curb-weight          0\n",
       "engine-size          0\n",
       "bore                 0\n",
       "stroke               0\n",
       "compression-rate     0\n",
       "horsepower           0\n",
       "peak-rpm             0\n",
       "city-mpg             0\n",
       "highway-mpg          0\n",
       "price                0\n",
       "dtype: int64"
      ]
     },
     "execution_count": 12,
     "metadata": {},
     "output_type": "execute_result"
    }
   ],
   "source": [
    "# Let's check to make sure our change worked\n",
    "numeric_cars.isnull().sum()"
   ]
  },
  {
   "cell_type": "code",
   "execution_count": 13,
   "metadata": {
    "collapsed": false
   },
   "outputs": [
    {
     "data": {
      "text/html": [
       "<div>\n",
       "<style scoped>\n",
       "    .dataframe tbody tr th:only-of-type {\n",
       "        vertical-align: middle;\n",
       "    }\n",
       "\n",
       "    .dataframe tbody tr th {\n",
       "        vertical-align: top;\n",
       "    }\n",
       "\n",
       "    .dataframe thead th {\n",
       "        text-align: right;\n",
       "    }\n",
       "</style>\n",
       "<table border=\"1\" class=\"dataframe\">\n",
       "  <thead>\n",
       "    <tr style=\"text-align: right;\">\n",
       "      <th></th>\n",
       "      <th>normalized-losses</th>\n",
       "      <th>wheel-base</th>\n",
       "      <th>length</th>\n",
       "      <th>width</th>\n",
       "      <th>height</th>\n",
       "      <th>curb-weight</th>\n",
       "      <th>engine-size</th>\n",
       "      <th>bore</th>\n",
       "      <th>stroke</th>\n",
       "      <th>compression-rate</th>\n",
       "      <th>horsepower</th>\n",
       "      <th>peak-rpm</th>\n",
       "      <th>city-mpg</th>\n",
       "      <th>highway-mpg</th>\n",
       "      <th>price</th>\n",
       "    </tr>\n",
       "  </thead>\n",
       "  <tbody>\n",
       "    <tr>\n",
       "      <th>0</th>\n",
       "      <td>122.0</td>\n",
       "      <td>88.6</td>\n",
       "      <td>168.8</td>\n",
       "      <td>64.1</td>\n",
       "      <td>48.8</td>\n",
       "      <td>2548.0</td>\n",
       "      <td>130.0</td>\n",
       "      <td>3.47</td>\n",
       "      <td>2.68</td>\n",
       "      <td>9.0</td>\n",
       "      <td>111.0</td>\n",
       "      <td>5000.0</td>\n",
       "      <td>21.0</td>\n",
       "      <td>27.0</td>\n",
       "      <td>13495.0</td>\n",
       "    </tr>\n",
       "    <tr>\n",
       "      <th>1</th>\n",
       "      <td>122.0</td>\n",
       "      <td>88.6</td>\n",
       "      <td>168.8</td>\n",
       "      <td>64.1</td>\n",
       "      <td>48.8</td>\n",
       "      <td>2548.0</td>\n",
       "      <td>130.0</td>\n",
       "      <td>3.47</td>\n",
       "      <td>2.68</td>\n",
       "      <td>9.0</td>\n",
       "      <td>111.0</td>\n",
       "      <td>5000.0</td>\n",
       "      <td>21.0</td>\n",
       "      <td>27.0</td>\n",
       "      <td>16500.0</td>\n",
       "    </tr>\n",
       "    <tr>\n",
       "      <th>2</th>\n",
       "      <td>122.0</td>\n",
       "      <td>94.5</td>\n",
       "      <td>171.2</td>\n",
       "      <td>65.5</td>\n",
       "      <td>52.4</td>\n",
       "      <td>2823.0</td>\n",
       "      <td>152.0</td>\n",
       "      <td>2.68</td>\n",
       "      <td>3.47</td>\n",
       "      <td>9.0</td>\n",
       "      <td>154.0</td>\n",
       "      <td>5000.0</td>\n",
       "      <td>19.0</td>\n",
       "      <td>26.0</td>\n",
       "      <td>16500.0</td>\n",
       "    </tr>\n",
       "    <tr>\n",
       "      <th>3</th>\n",
       "      <td>164.0</td>\n",
       "      <td>99.8</td>\n",
       "      <td>176.6</td>\n",
       "      <td>66.2</td>\n",
       "      <td>54.3</td>\n",
       "      <td>2337.0</td>\n",
       "      <td>109.0</td>\n",
       "      <td>3.19</td>\n",
       "      <td>3.40</td>\n",
       "      <td>10.0</td>\n",
       "      <td>102.0</td>\n",
       "      <td>5500.0</td>\n",
       "      <td>24.0</td>\n",
       "      <td>30.0</td>\n",
       "      <td>13950.0</td>\n",
       "    </tr>\n",
       "    <tr>\n",
       "      <th>4</th>\n",
       "      <td>164.0</td>\n",
       "      <td>99.4</td>\n",
       "      <td>176.6</td>\n",
       "      <td>66.4</td>\n",
       "      <td>54.3</td>\n",
       "      <td>2824.0</td>\n",
       "      <td>136.0</td>\n",
       "      <td>3.19</td>\n",
       "      <td>3.40</td>\n",
       "      <td>8.0</td>\n",
       "      <td>115.0</td>\n",
       "      <td>5500.0</td>\n",
       "      <td>18.0</td>\n",
       "      <td>22.0</td>\n",
       "      <td>17450.0</td>\n",
       "    </tr>\n",
       "  </tbody>\n",
       "</table>\n",
       "</div>"
      ],
      "text/plain": [
       "   normalized-losses  wheel-base  length  width  height  curb-weight  \\\n",
       "0              122.0        88.6   168.8   64.1    48.8       2548.0   \n",
       "1              122.0        88.6   168.8   64.1    48.8       2548.0   \n",
       "2              122.0        94.5   171.2   65.5    52.4       2823.0   \n",
       "3              164.0        99.8   176.6   66.2    54.3       2337.0   \n",
       "4              164.0        99.4   176.6   66.4    54.3       2824.0   \n",
       "\n",
       "   engine-size  bore  stroke  compression-rate  horsepower  peak-rpm  \\\n",
       "0        130.0  3.47    2.68               9.0       111.0    5000.0   \n",
       "1        130.0  3.47    2.68               9.0       111.0    5000.0   \n",
       "2        152.0  2.68    3.47               9.0       154.0    5000.0   \n",
       "3        109.0  3.19    3.40              10.0       102.0    5500.0   \n",
       "4        136.0  3.19    3.40               8.0       115.0    5500.0   \n",
       "\n",
       "   city-mpg  highway-mpg    price  \n",
       "0      21.0         27.0  13495.0  \n",
       "1      21.0         27.0  16500.0  \n",
       "2      19.0         26.0  16500.0  \n",
       "3      24.0         30.0  13950.0  \n",
       "4      18.0         22.0  17450.0  "
      ]
     },
     "execution_count": 13,
     "metadata": {},
     "output_type": "execute_result"
    }
   ],
   "source": [
    "# Let's check the status of our dataframe\n",
    "numeric_cars.head()"
   ]
  },
  {
   "cell_type": "code",
   "execution_count": 14,
   "metadata": {
    "collapsed": true
   },
   "outputs": [],
   "source": [
    "# Now, let's normalize our data set. We could use Standard Scaler or just create\n",
    "# a function ourselves. Let's do the latter.\n",
    "def normalize_variables(df):  # Take a dataframe as an input\n",
    "    for column in df.columns:  # Iterate over the columns\n",
    "        mean = df[column].mean()  # Find the column mean\n",
    "        col_range = df[column].max() - df[column].mean()  # Find the column range\n",
    "        df[column] = df[column].apply(lambda x: (x - mean) / col_range)  # Replace each value in the column with the normalized mean of the element\n",
    "    return df  # Return the transformed dataframe"
   ]
  },
  {
   "cell_type": "code",
   "execution_count": 15,
   "metadata": {
    "collapsed": false
   },
   "outputs": [],
   "source": [
    "# We now apply our function to our dataframe. We'll check to ensure our transformation worked after\n",
    "normalized_cars = normalize_variables(numeric_cars.drop('price', axis=1))"
   ]
  },
  {
   "cell_type": "code",
   "execution_count": 16,
   "metadata": {
    "collapsed": true
   },
   "outputs": [],
   "source": [
    "# We now add back our price column\n",
    "normalized_cars['price'] = numeric_cars['price']"
   ]
  },
  {
   "cell_type": "code",
   "execution_count": 17,
   "metadata": {
    "collapsed": false
   },
   "outputs": [
    {
     "data": {
      "text/html": [
       "<div>\n",
       "<style scoped>\n",
       "    .dataframe tbody tr th:only-of-type {\n",
       "        vertical-align: middle;\n",
       "    }\n",
       "\n",
       "    .dataframe tbody tr th {\n",
       "        vertical-align: top;\n",
       "    }\n",
       "\n",
       "    .dataframe thead th {\n",
       "        text-align: right;\n",
       "    }\n",
       "</style>\n",
       "<table border=\"1\" class=\"dataframe\">\n",
       "  <thead>\n",
       "    <tr style=\"text-align: right;\">\n",
       "      <th></th>\n",
       "      <th>normalized-losses</th>\n",
       "      <th>wheel-base</th>\n",
       "      <th>length</th>\n",
       "      <th>width</th>\n",
       "      <th>height</th>\n",
       "      <th>curb-weight</th>\n",
       "      <th>engine-size</th>\n",
       "      <th>bore</th>\n",
       "      <th>stroke</th>\n",
       "      <th>compression-rate</th>\n",
       "      <th>horsepower</th>\n",
       "      <th>peak-rpm</th>\n",
       "      <th>city-mpg</th>\n",
       "      <th>highway-mpg</th>\n",
       "      <th>price</th>\n",
       "    </tr>\n",
       "  </thead>\n",
       "  <tbody>\n",
       "    <tr>\n",
       "      <th>0</th>\n",
       "      <td>0.000000</td>\n",
       "      <td>-0.458673</td>\n",
       "      <td>-0.154160</td>\n",
       "      <td>-0.282814</td>\n",
       "      <td>-0.810663</td>\n",
       "      <td>-0.005009</td>\n",
       "      <td>0.015534</td>\n",
       "      <td>0.229822</td>\n",
       "      <td>-0.629168</td>\n",
       "      <td>-0.088862</td>\n",
       "      <td>0.036702</td>\n",
       "      <td>-0.085018</td>\n",
       "      <td>-0.177436</td>\n",
       "      <td>-0.161351</td>\n",
       "      <td>13495.0</td>\n",
       "    </tr>\n",
       "    <tr>\n",
       "      <th>1</th>\n",
       "      <td>0.000000</td>\n",
       "      <td>-0.458673</td>\n",
       "      <td>-0.154160</td>\n",
       "      <td>-0.282814</td>\n",
       "      <td>-0.810663</td>\n",
       "      <td>-0.005009</td>\n",
       "      <td>0.015534</td>\n",
       "      <td>0.229822</td>\n",
       "      <td>-0.629168</td>\n",
       "      <td>-0.088862</td>\n",
       "      <td>0.036702</td>\n",
       "      <td>-0.085018</td>\n",
       "      <td>-0.177436</td>\n",
       "      <td>-0.161351</td>\n",
       "      <td>16500.0</td>\n",
       "    </tr>\n",
       "    <tr>\n",
       "      <th>2</th>\n",
       "      <td>0.000000</td>\n",
       "      <td>-0.192228</td>\n",
       "      <td>-0.083677</td>\n",
       "      <td>-0.063797</td>\n",
       "      <td>-0.218083</td>\n",
       "      <td>0.177058</td>\n",
       "      <td>0.126035</td>\n",
       "      <td>-1.064732</td>\n",
       "      <td>0.234619</td>\n",
       "      <td>-0.088862</td>\n",
       "      <td>0.270724</td>\n",
       "      <td>-0.085018</td>\n",
       "      <td>-0.261538</td>\n",
       "      <td>-0.204364</td>\n",
       "      <td>16500.0</td>\n",
       "    </tr>\n",
       "    <tr>\n",
       "      <th>3</th>\n",
       "      <td>0.313433</td>\n",
       "      <td>0.047121</td>\n",
       "      <td>0.074910</td>\n",
       "      <td>0.045711</td>\n",
       "      <td>0.094668</td>\n",
       "      <td>-0.144704</td>\n",
       "      <td>-0.089945</td>\n",
       "      <td>-0.229007</td>\n",
       "      <td>0.158081</td>\n",
       "      <td>-0.011086</td>\n",
       "      <td>-0.012279</td>\n",
       "      <td>0.254050</td>\n",
       "      <td>-0.051282</td>\n",
       "      <td>-0.032312</td>\n",
       "      <td>13950.0</td>\n",
       "    </tr>\n",
       "    <tr>\n",
       "      <th>4</th>\n",
       "      <td>0.313433</td>\n",
       "      <td>0.029057</td>\n",
       "      <td>0.074910</td>\n",
       "      <td>0.076999</td>\n",
       "      <td>0.094668</td>\n",
       "      <td>0.177720</td>\n",
       "      <td>0.045671</td>\n",
       "      <td>-0.229007</td>\n",
       "      <td>0.158081</td>\n",
       "      <td>-0.166638</td>\n",
       "      <td>0.058472</td>\n",
       "      <td>0.254050</td>\n",
       "      <td>-0.303590</td>\n",
       "      <td>-0.376416</td>\n",
       "      <td>17450.0</td>\n",
       "    </tr>\n",
       "  </tbody>\n",
       "</table>\n",
       "</div>"
      ],
      "text/plain": [
       "   normalized-losses  wheel-base    length     width    height  curb-weight  \\\n",
       "0           0.000000   -0.458673 -0.154160 -0.282814 -0.810663    -0.005009   \n",
       "1           0.000000   -0.458673 -0.154160 -0.282814 -0.810663    -0.005009   \n",
       "2           0.000000   -0.192228 -0.083677 -0.063797 -0.218083     0.177058   \n",
       "3           0.313433    0.047121  0.074910  0.045711  0.094668    -0.144704   \n",
       "4           0.313433    0.029057  0.074910  0.076999  0.094668     0.177720   \n",
       "\n",
       "   engine-size      bore    stroke  compression-rate  horsepower  peak-rpm  \\\n",
       "0     0.015534  0.229822 -0.629168         -0.088862    0.036702 -0.085018   \n",
       "1     0.015534  0.229822 -0.629168         -0.088862    0.036702 -0.085018   \n",
       "2     0.126035 -1.064732  0.234619         -0.088862    0.270724 -0.085018   \n",
       "3    -0.089945 -0.229007  0.158081         -0.011086   -0.012279  0.254050   \n",
       "4     0.045671 -0.229007  0.158081         -0.166638    0.058472  0.254050   \n",
       "\n",
       "   city-mpg  highway-mpg    price  \n",
       "0 -0.177436    -0.161351  13495.0  \n",
       "1 -0.177436    -0.161351  16500.0  \n",
       "2 -0.261538    -0.204364  16500.0  \n",
       "3 -0.051282    -0.032312  13950.0  \n",
       "4 -0.303590    -0.376416  17450.0  "
      ]
     },
     "execution_count": 17,
     "metadata": {},
     "output_type": "execute_result"
    }
   ],
   "source": [
    "normalized_cars.head()"
   ]
  },
  {
   "cell_type": "markdown",
   "metadata": {},
   "source": [
    "### Model Creation"
   ]
  },
  {
   "cell_type": "markdown",
   "metadata": {},
   "source": [
    "We now have the data necessary to begin creating our model. As we stated in the introduction, we will be using a k-nearest neighbors approach to this problem with k-fold cross validation to help assess our accuracy.\n",
    "\n",
    "I understand that Linear or Polynomial regression may be the better choice for a project like this, but again, I would like this project to demonstrate that I understand how to implement a k-nearest neighbors model.\n",
    "\n",
    "We will begin our model construction by creating a function that will perform a good portion of the construction process for us. The comments below will explain each step in more detail."
   ]
  },
  {
   "cell_type": "code",
   "execution_count": 18,
   "metadata": {
    "collapsed": false
   },
   "outputs": [],
   "source": [
    "# We now create our function for our K-Nearest neighbors model\n",
    "def knn_train_test(training_column, target, df):\n",
    "    knn = KNeighborsRegressor(n_neighbors=5, algorithm='auto')  # We create an instance of our model\n",
    "    np.random.seed(1)  # We define our random seed\n",
    "    \n",
    "    shuffled_index = np.random.permutation(df.index)  # Randomize our dataset rows\n",
    "    df = df.reindex(shuffled_index)  # Apply the randomized rows to our set\n",
    "    \n",
    "    dividing_row = int(len(df) / 2)  # We will perform a 50:50 split\n",
    "    train_df = df.iloc[0:dividing_row]\n",
    "    test_df = df.iloc[dividing_row:]\n",
    "    \n",
    "    knn.fit(train_df[[training_column]], train_df[target])\n",
    "    predictions = knn.predict(test_df[[training_column]])\n",
    "    rmse = (mean_squared_error(test_df[target], predictions)) ** (1/2)\n",
    "    return rmse"
   ]
  },
  {
   "cell_type": "markdown",
   "metadata": {},
   "source": [
    "### Model Implementation and Revision"
   ]
  },
  {
   "cell_type": "markdown",
   "metadata": {},
   "source": [
    "We now are ready to implement our model. To start, we will iterate through each column of our dataset and find which column gives us the lowest rmse score. From there, we will modify our function to peform a grid search in order to find the best hyperparameter \"k\" for our model.\n",
    "\n",
    "We will then more than likely modify our function for a second time to incorporate more than a single column to improve our accuracy."
   ]
  },
  {
   "cell_type": "code",
   "execution_count": 19,
   "metadata": {
    "collapsed": false
   },
   "outputs": [
    {
     "name": "stdout",
     "output_type": "stream",
     "text": [
      "The rmse score for the normalized-losses column is 7407.937937553142\n",
      "The rmse score for the wheel-base column is 5743.8770860517825\n",
      "The rmse score for the length column is 5418.792688609786\n",
      "The rmse score for the width column is 5279.803117783293\n",
      "The rmse score for the height column is 7822.949167142879\n",
      "The rmse score for the curb-weight column is 4436.523561278551\n",
      "The rmse score for the engine-size column is 4257.1027981219695\n",
      "The rmse score for the bore column is 6746.923728484581\n",
      "The rmse score for the stroke column is 8097.175832307023\n",
      "The rmse score for the compression-rate column is 7177.202060550313\n",
      "The rmse score for the horsepower column is 5127.959507774511\n",
      "The rmse score for the peak-rpm column is 7932.35641493988\n",
      "The rmse score for the city-mpg column is 5093.397216696797\n",
      "The rmse score for the highway-mpg column is 4276.870208110033\n",
      "The rmse score for the price column is 828.7243190039874\n"
     ]
    }
   ],
   "source": [
    "# We apply our function below\n",
    "for column in normalized_cars.columns:\n",
    "    score = knn_train_test(column, 'price', normalized_cars)\n",
    "    print('The rmse score for the', column, 'column is', score)"
   ]
  },
  {
   "cell_type": "markdown",
   "metadata": {},
   "source": [
    "Preliminarily, it would appear that the \"engine size\" column is the column that would help us predict the prices the best. However, let's revise our function to find the optimal hyperparameter value \"k\"."
   ]
  },
  {
   "cell_type": "code",
   "execution_count": 20,
   "metadata": {
    "collapsed": true
   },
   "outputs": [],
   "source": [
    "def knn_train_test(training_column, target, df):\n",
    "    k_values = [1, 3, 5, 7, 9]\n",
    "    k_rmse = {}\n",
    "    for k in k_values:\n",
    "        knn = KNeighborsRegressor(n_neighbors=k, algorithm='auto')  # We create an instance of our model\n",
    "        np.random.seed(1)  # We define our random seed\n",
    "    \n",
    "        shuffled_index = np.random.permutation(df.index)  # Randomize our dataset rows\n",
    "        df = df.reindex(shuffled_index)  # Apply the randomized rows to our set\n",
    "    \n",
    "        dividing_row = int(len(df) / 2)  # We will perform a 50:50 split\n",
    "        train_df = df.iloc[0:dividing_row]\n",
    "        test_df = df.iloc[dividing_row:]\n",
    "    \n",
    "        knn.fit(train_df[[training_column]], train_df[target])\n",
    "        predictions = knn.predict(test_df[[training_column]])\n",
    "        rmse = (mean_squared_error(test_df[target], predictions)) ** (1/2)\n",
    "        k_rmse[k] = rmse\n",
    "    return k_rmse     "
   ]
  },
  {
   "cell_type": "code",
   "execution_count": 21,
   "metadata": {
    "collapsed": false
   },
   "outputs": [
    {
     "data": {
      "text/plain": [
       "{'bore': {1: 8041.499196464682,\n",
       "  3: 8031.59525792324,\n",
       "  5: 8165.608681285838,\n",
       "  7: 7537.183607518203,\n",
       "  9: 7171.043575257238},\n",
       " 'city-mpg': {1: 6433.398158872591,\n",
       "  3: 5264.729035492814,\n",
       "  5: 4818.0793313714,\n",
       "  7: 6009.262647260571,\n",
       "  9: 4867.434531924221},\n",
       " 'compression-rate': {1: 7255.772135357892,\n",
       "  3: 7058.83457118534,\n",
       "  5: 6006.189742709896,\n",
       "  7: 7969.953488195231,\n",
       "  9: 6487.35794389652},\n",
       " 'curb-weight': {1: 5842.169653813219,\n",
       "  3: 5107.4506600552995,\n",
       "  5: 4212.014094758555,\n",
       "  7: 5127.613815088561,\n",
       "  9: 4669.859135792812},\n",
       " 'engine-size': {1: 4775.980594973188,\n",
       "  3: 4851.223869030591,\n",
       "  5: 3962.806104717549,\n",
       "  7: 4886.301958605613,\n",
       "  9: 4492.478042344975},\n",
       " 'height': {1: 10653.050778292903,\n",
       "  3: 8620.851262519,\n",
       "  5: 7083.196434899195,\n",
       "  7: 8635.429928882635,\n",
       "  9: 7907.671197639808},\n",
       " 'highway-mpg': {1: 4445.090471315778,\n",
       "  3: 5513.174817505922,\n",
       "  5: 4376.380354156063,\n",
       "  7: 5618.231663858651,\n",
       "  9: 5629.596267020286},\n",
       " 'horsepower': {1: 5261.091645623908,\n",
       "  3: 5309.6402162866325,\n",
       "  5: 4592.786670852688,\n",
       "  7: 5623.252049100372,\n",
       "  9: 5094.394632406028},\n",
       " 'length': {1: 6853.715819594109,\n",
       "  3: 6912.260886541517,\n",
       "  5: 4616.291266338509,\n",
       "  7: 6342.745000314976,\n",
       "  9: 5615.655151015689},\n",
       " 'normalized-losses': {1: 6998.7424709166335,\n",
       "  3: 8855.511081432542,\n",
       "  5: 6389.000170392337,\n",
       "  7: 7780.812989639682,\n",
       "  9: 7496.390152390572},\n",
       " 'peak-rpm': {1: 9386.46161279999,\n",
       "  3: 9143.720800046063,\n",
       "  5: 7574.451355958181,\n",
       "  7: 8675.344736857727,\n",
       "  9: 8307.718734027834},\n",
       " 'price': {1: 460.3036170924357,\n",
       "  3: 1386.515641146877,\n",
       "  5: 679.5237670785226,\n",
       "  7: 2049.6441334029278,\n",
       "  9: 1653.597995853295},\n",
       " 'stroke': {1: 7345.451363903154,\n",
       "  3: 8751.969589268505,\n",
       "  5: 7057.098264571371,\n",
       "  7: 8344.570208631692,\n",
       "  9: 8467.07749097753},\n",
       " 'wheel-base': {1: 5400.51418967299,\n",
       "  3: 6810.7099515287655,\n",
       "  5: 5567.606597784414,\n",
       "  7: 6930.910630083626,\n",
       "  9: 6172.080585227048},\n",
       " 'width': {1: 5739.245757378005,\n",
       "  3: 5409.937458681041,\n",
       "  5: 4997.8043752525355,\n",
       "  7: 5843.453816954361,\n",
       "  9: 5537.46217833569}}"
      ]
     },
     "execution_count": 21,
     "metadata": {},
     "output_type": "execute_result"
    }
   ],
   "source": [
    "# We now apply our function to our feature matrix again.\n",
    "k_rmse_results = {}\n",
    "for column in normalized_cars.columns:\n",
    "    result = knn_train_test(column, 'price', normalized_cars)\n",
    "    k_rmse_results[column] = result\n",
    "k_rmse_results"
   ]
  },
  {
   "cell_type": "markdown",
   "metadata": {},
   "source": [
    "Almost there! Let's plot a chart to visulaize which value of k is the most optimal."
   ]
  },
  {
   "cell_type": "code",
   "execution_count": 22,
   "metadata": {
    "collapsed": false
   },
   "outputs": [
    {
     "data": {
      "image/png": "[encoded data removed]",
      "text/plain": [
       "<matplotlib.figure.Figure at 0x7f4bb23261d0>"
      ]
     },
     "metadata": {},
     "output_type": "display_data"
    }
   ],
   "source": [
    "%matplotlib inline\n",
    "plt.figure(figsize=(12, 10))\n",
    "style.use('fivethirtyeight')\n",
    "plt.rc('axes', labelsize=25)\n",
    "for key, results in k_rmse_results.items():\n",
    "    x = list(sorted(results.keys()))\n",
    "    y = list(sorted(results.values()))\n",
    "    plt.plot(x, y, label=key)\n",
    "    plt.legend(bbox_to_anchor=(1.29, 1.015) )\n",
    "    plt.xlabel('Our Choice of K')\n",
    "    plt.ylabel('RMSE Values')"
   ]
  },
  {
   "cell_type": "markdown",
   "metadata": {},
   "source": [
    "It appears that the value of 3 is the best to work with. Let's update our function to generate a multivariate model. We will use the best 5 features incrementally to see how our model adjusts to incorporating more than 1 feature."
   ]
  },
  {
   "cell_type": "code",
   "execution_count": 23,
   "metadata": {
    "collapsed": false
   },
   "outputs": [
    {
     "data": {
      "text/plain": [
       "engine-size    4593.758114\n",
       "curb-weight    4991.821472\n",
       "highway-mpg    5116.494715\n",
       "horsepower     5176.233043\n",
       "city-mpg       5478.580741\n",
       "dtype: float64"
      ]
     },
     "execution_count": 23,
     "metadata": {},
     "output_type": "execute_result"
    }
   ],
   "source": [
    "best_avg_rmse = {}\n",
    "for key, score in k_rmse_results.items():  # Iterate through our result dict\n",
    "    avg_rmse = np.mean(list(score.values()))  # Take the average rmse value\n",
    "    best_avg_rmse[key] = avg_rmse  # Assign each feature it's avg rmse value\n",
    "series_avg_rmse = pd.Series(best_avg_rmse)  # Convert dict into a Series\n",
    "best_features = series_avg_rmse.sort_values()  # Sort the series by the avg rmse\n",
    "best_features = best_features.drop('price')  #  Drop the target price column\n",
    "best_features.head()"
   ]
  },
  {
   "cell_type": "code",
   "execution_count": 24,
   "metadata": {
    "collapsed": true
   },
   "outputs": [],
   "source": [
    "def knn_train_test(training_column, target, df):\n",
    "    knn = KNeighborsRegressor(n_neighbors=5, algorithm='auto')  # We create an instance of our model\n",
    "    np.random.seed(1)  # We define our random seed\n",
    "    \n",
    "    shuffled_index = np.random.permutation(df.index)  # Randomize our dataset rows\n",
    "    df = df.reindex(shuffled_index)  # Apply the randomized rows to our set\n",
    "    \n",
    "    dividing_row = int(len(df) / 2)  # We will perform a 50:50 split\n",
    "    train_df = df.iloc[0:dividing_row]\n",
    "    test_df = df.iloc[dividing_row:]\n",
    "    \n",
    "    knn.fit(train_df[training_column], train_df[target])  # Updated to take multiple columns\n",
    "    predictions = knn.predict(test_df[training_column])\n",
    "    rmse = (mean_squared_error(test_df[target], predictions)) ** (1/2)\n",
    "    return rmse"
   ]
  },
  {
   "cell_type": "code",
   "execution_count": 25,
   "metadata": {
    "collapsed": false
   },
   "outputs": [
    {
     "name": "stdout",
     "output_type": "stream",
     "text": [
      "For 2 features, the score was 3898.810559890747.\n",
      "For 3 features, the score was 3712.3710161087824.\n",
      "For 4 features, the score was 3939.016748410891.\n",
      "For 5 features, the score was 4021.2158466497726.\n"
     ]
    }
   ],
   "source": [
    "# We will now see how accurate our model is for 2, 3, 4, and 5 best features\n",
    "best_rmse_features = {}\n",
    "sorted_features = best_features.index\n",
    "for i in range(2, 6):\n",
    "    result = knn_train_test(sorted_features[:i], 'price', normalized_cars)\n",
    "    best_rmse_features[i] = result\n",
    "for key, value in best_rmse_features.items():\n",
    "    print(\"For {} features, the score was {}.\".format(key, value))"
   ]
  },
  {
   "cell_type": "markdown",
   "metadata": {},
   "source": [
    "### Hyperparameter Optimization"
   ]
  },
  {
   "cell_type": "markdown",
   "metadata": {},
   "source": [
    "Now that we have our 3 best features to train, let's monkey around with our hyperparameter: the value of k. Recall, we chose some arbitrary k's in an earlier step, but let's cycle through a larger set of values to apply."
   ]
  },
  {
   "cell_type": "code",
   "execution_count": 26,
   "metadata": {
    "collapsed": true
   },
   "outputs": [],
   "source": [
    "def knn_train_test(training_column, target, df):\n",
    "    k_varying = {}\n",
    "    for k in range(1, 26):\n",
    "\n",
    "        knn = KNeighborsRegressor(n_neighbors=k, algorithm='auto')  # Alter k\n",
    "        np.random.seed(1)  # We define our random seed\n",
    "    \n",
    "        shuffled_index = np.random.permutation(df.index)  # Randomize our dataset rows\n",
    "        df = df.reindex(shuffled_index)  # Apply the randomized rows to our set\n",
    "    \n",
    "        dividing_row = int(len(df) / 2)  # We will perform a 50:50 split\n",
    "        train_df = df.iloc[0:dividing_row]\n",
    "        test_df = df.iloc[dividing_row:]\n",
    "    \n",
    "        knn.fit(train_df[training_column], train_df[target])  # Updated to take multiple columns\n",
    "        predictions = knn.predict(test_df[training_column])\n",
    "        rmse = (mean_squared_error(test_df[target], predictions)) ** (1/2)\n",
    "        k_varying[k] = rmse\n",
    "    return k_varying"
   ]
  },
  {
   "cell_type": "code",
   "execution_count": 27,
   "metadata": {
    "collapsed": true
   },
   "outputs": [],
   "source": [
    "# We now apply our updated function \n",
    "different_k = knn_train_test(sorted_features[:3], 'price', normalized_cars)"
   ]
  },
  {
   "cell_type": "code",
   "execution_count": 28,
   "metadata": {
    "collapsed": false
   },
   "outputs": [
    {
     "data": {
      "text/plain": [
       "1     4106.797749\n",
       "2     3623.123497\n",
       "3     3651.633287\n",
       "4     4463.719417\n",
       "5     4147.878112\n",
       "6     4261.357595\n",
       "7     5334.401284\n",
       "8     3122.240947\n",
       "9     5763.424808\n",
       "10    3476.133796\n",
       "11    3006.481705\n",
       "12    5080.796696\n",
       "13    3503.962246\n",
       "14    5328.958838\n",
       "15    4556.016560\n",
       "16    5234.336506\n",
       "17    4173.238078\n",
       "18    4165.259058\n",
       "19    5359.394021\n",
       "20    4701.698382\n",
       "21    5029.745099\n",
       "22    4272.973206\n",
       "23    4696.200126\n",
       "24    4392.777202\n",
       "25    4775.365962\n",
       "dtype: float64"
      ]
     },
     "execution_count": 28,
     "metadata": {},
     "output_type": "execute_result"
    }
   ],
   "source": [
    "# We now wish to plot our values to see if we can determine the best value for k\n",
    "different_k_series = pd.Series(different_k)\n",
    "different_k_series"
   ]
  },
  {
   "cell_type": "code",
   "execution_count": 30,
   "metadata": {
    "collapsed": false
   },
   "outputs": [
    {
     "data": {
      "image/png": "[encoded data removed]",
      "text/plain": [
       "<matplotlib.figure.Figure at 0x7f4bb0050358>"
      ]
     },
     "metadata": {},
     "output_type": "display_data"
    }
   ],
   "source": [
    "different_k_series.plot()\n",
    "plt.rc('axes', labelsize=12)\n",
    "plt.xlabel('Value for K')\n",
    "plt.ylabel('RMSE value')\n",
    "plt.title('RMSE Values for Different K')\n",
    "plt.show()"
   ]
  },
  {
   "cell_type": "markdown",
   "metadata": {},
   "source": [
    "## Conclusion"
   ]
  },
  {
   "cell_type": "markdown",
   "metadata": {},
   "source": [
    "For this project, we were able to build a k-nearest neighbors model. Through much experimentation, we were able to determine that our model is most accurate with 3 features and a k-value of 11. While linear regression might be a better candidate, I wanted to demonstrate that I understand how the k-nearest neighbor model is implemented. Refer to the Housing Prices project on my portfolio to see an example of Line"
   ]
  }
 ],
 "metadata": {
  "kernelspec": {
   "display_name": "Python 3",
   "language": "python",
   "name": "python3"
  },
  "language_info": {
   "codemirror_mode": {
    "name": "ipython",
    "version": 3
   },
   "file_extension": ".py",
   "mimetype": "text/x-python",
   "name": "python",
   "nbconvert_exporter": "python",
   "pygments_lexer": "ipython3",
   "version": "3.4.3"
  }
 },
 "nbformat": 4,
 "nbformat_minor": 2
}
